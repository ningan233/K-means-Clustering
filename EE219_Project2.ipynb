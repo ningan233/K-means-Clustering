{
 "cells": [
  {
   "cell_type": "code",
   "execution_count": null,
   "metadata": {},
   "outputs": [],
   "source": []
  },
  {
   "cell_type": "code",
   "execution_count": 1,
   "metadata": {},
   "outputs": [
    {
     "name": "stdout",
     "output_type": "stream",
     "text": [
      "----------- QUESTION 1 -----------\n",
      "The dimension of the TF-IDF matrix is  (7882, 27768)\n"
     ]
    }
   ],
   "source": [
    "\"\"\"\n",
    "QUESTION 1\n",
    "\"\"\"\n",
    "print(\"----------- QUESTION 1 -----------\")\n",
    "# -*- coding: utf-8 -*-\n",
    "import numpy as np\n",
    "from sklearn.datasets import fetch_20newsgroups\n",
    "from sklearn.feature_extraction import text\n",
    "from sklearn.feature_extraction.text import CountVectorizer\n",
    "from sklearn.feature_extraction.text import TfidfTransformer\n",
    "import matplotlib.pyplot as plt\n",
    "\n",
    "# load data\n",
    "categories = ['comp.graphics', 'comp.os.ms-windows.misc', \n",
    "              'comp.sys.ibm.pc.hardware', 'comp.sys.mac.hardware', \n",
    "              'rec.autos', 'rec.motorcycles', \n",
    "              'rec.sport.baseball', 'rec.sport.hockey']\n",
    "dataset = fetch_20newsgroups(subset='all', categories=categories, \n",
    "                             shuffle=True, random_state=42)\n",
    "\n",
    "# define stop_words and vectorizer\n",
    "stop_words = text.ENGLISH_STOP_WORDS\n",
    "vectorizer = text.CountVectorizer(min_df=3, stop_words=stop_words)\n",
    "\n",
    "# get the TF matrix\n",
    "X_counts = vectorizer.fit_transform(dataset.data)\n",
    "X_counts.toarray()\n",
    "\n",
    "# TF-IDF matrix\n",
    "X_tfidf = text.TfidfTransformer().fit_transform(X_counts)\n",
    "print (\"The dimension of the TF-IDF matrix is \",X_tfidf.shape)"
   ]
  },
  {
   "cell_type": "code",
   "execution_count": 2,
   "metadata": {},
   "outputs": [],
   "source": [
    "# Plot the contingency table\n",
    "def plot_contingency_table(cm, classes, normalize=False, title='Contingency Table', cmap=plt.cm.Blues):\n",
    "    \"\"\"\n",
    "    This function prints and plots the contingency table.\n",
    "    Normalization can be applied by setting `normalize=True`.\n",
    "    \"\"\"\n",
    "    if normalize:\n",
    "        cm = cm.astype('float') / cm.sum(axis=1)[:, np.newaxis]\n",
    "        print(\"Normalized contingency table\")\n",
    "    else:\n",
    "        print('contingency table')\n",
    "\n",
    "    print(cm)\n",
    "\n",
    "    plt.imshow(cm, interpolation='nearest', cmap=cmap)\n",
    "    plt.title(title)\n",
    "    plt.colorbar()\n",
    "    tick_marks = np.arange(len(classes))\n",
    "    plt.xticks(tick_marks, classes, rotation=45)\n",
    "    plt.yticks(tick_marks, classes)\n",
    "\n",
    "    fmt = '.2f' if normalize else 'd'\n",
    "    thresh = cm.max() / 2.\n",
    "    for i, j in itertools.product(range(cm.shape[0]), range(cm.shape[1])):\n",
    "        plt.text(j, i, format(cm[i, j], fmt),\n",
    "                 horizontalalignment=\"center\",\n",
    "                 color=\"white\" if cm[i, j] > thresh else \"black\")\n",
    "\n",
    "    plt.ylabel('True label')\n",
    "    plt.xlabel('Predicted label')\n",
    "    plt.tight_layout()"
   ]
  },
  {
   "cell_type": "code",
   "execution_count": null,
   "metadata": {},
   "outputs": [
    {
     "name": "stdout",
     "output_type": "stream",
     "text": [
      "----------- QUESTION 2 -----------\n"
     ]
    }
   ],
   "source": [
    "\"\"\"\n",
    "QUESTION 2\n",
    "\"\"\"\n",
    "print(\"----------- QUESTION 2 -----------\")\n",
    "\n",
    "from sklearn.cluster import KMeans\n",
    "from sklearn import metrics\n",
    "from sklearn.metrics import confusion_matrix\n",
    "\n",
    "# assign labels to data\n",
    "num_data = len(dataset.target)\n",
    "y = [0 if dataset.target[i] < 4 else 1 for i in range(num_data)]\n",
    "\n",
    "# train a KMeans classifier\n",
    "kmeans_clf = KMeans(n_clusters=2, n_init=50, max_iter=1500, random_state=0)\n",
    "\n",
    "# use k-means to predict the label for each data\n",
    "y_pred = kmeans_clf.fit_predict(X_tfidf)\n",
    "\n",
    "# report contingency table\n",
    "print(\"the contingency table is \\n\",confusion_matrix(y,y_pred))\n",
    "\n",
    "# plot the contingency table\n",
    "classes = [\"class1\",\"class2\"]\n",
    "plt.figure()\n",
    "plot_contingency_table(kmeans_clf, classes, normalize=False, title='Contingency Table')\n",
    "plt.show()"
   ]
  },
  {
   "cell_type": "code",
   "execution_count": null,
   "metadata": {},
   "outputs": [],
   "source": [
    "\"\"\"\n",
    "QUESTION 3\n",
    "\"\"\"\n",
    "print(\"----------- QUESTION 3 -----------\")\n",
    "\n",
    "# evaluate clustering scores\n",
    "print(\"Homogeneity: \",metrics.homogeneity_score(y,y_pred))\n",
    "print(\"Completeness: \",metrics.completeness_score(y,y_pred))\n",
    "print(\"V-measure: \",metrics.v_measure_score(y,y_pred))\n",
    "print(\"adjusted Rand Index: \",metrics.adjusted_rand_score(y,y_pred))\n",
    "print(\"adjusted mutual information score: \",metrics.adjusted_mutual_info_score(y,y_pred))"
   ]
  },
  {
   "cell_type": "code",
   "execution_count": null,
   "metadata": {},
   "outputs": [],
   "source": []
  }
 ],
 "metadata": {
  "kernelspec": {
   "display_name": "Python 3",
   "language": "python",
   "name": "python3"
  },
  "language_info": {
   "codemirror_mode": {
    "name": "ipython",
    "version": 3
   },
   "file_extension": ".py",
   "mimetype": "text/x-python",
   "name": "python",
   "nbconvert_exporter": "python",
   "pygments_lexer": "ipython3",
   "version": "3.7.1"
  }
 },
 "nbformat": 4,
 "nbformat_minor": 2
}
